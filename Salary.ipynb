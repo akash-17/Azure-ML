{
 "cells": [
  {
   "cell_type": "markdown",
   "metadata": {},
   "source": [
    "#### Import standard Python modules"
   ]
  },
  {
   "cell_type": "code",
   "execution_count": 2,
   "metadata": {
    "ExecuteTime": {
     "end_time": "2021-08-02T07:38:58.559638Z",
     "start_time": "2021-08-02T07:38:58.551604Z"
    }
   },
   "outputs": [],
   "source": [
    "import datetime\n",
    "import numpy as np\n",
    "import pandas as pd\n",
    "from sklearn.model_selection import train_test_split\n",
    "from sklearn.linear_model import LinearRegression\n",
    "import joblib"
   ]
  },
  {
   "cell_type": "markdown",
   "metadata": {},
   "source": [
    "#### Import Azure ML SDK modules"
   ]
  },
  {
   "cell_type": "code",
   "execution_count": 13,
   "metadata": {
    "ExecuteTime": {
     "end_time": "2021-08-02T07:49:30.327532Z",
     "start_time": "2021-08-02T07:49:28.946353Z"
    }
   },
   "outputs": [],
   "source": [
    "import azureml.core\n",
    "from azureml.core import Workspace\n",
    "from azureml.core.model import Model\n",
    "from azureml.core import Experiment\n",
    "from azureml.core.webservice import Webservice\n",
    "from azureml.core.image import ContainerImage\n",
    "from azureml.core.webservice import AciWebservice\n",
    "from azureml.core.conda_dependencies import CondaDependencies"
   ]
  },
  {
   "cell_type": "code",
   "execution_count": 12,
   "metadata": {
    "ExecuteTime": {
     "end_time": "2021-08-02T07:49:01.502945Z",
     "start_time": "2021-08-02T07:48:38.722088Z"
    }
   },
   "outputs": [
    {
     "name": "stdout",
     "output_type": "stream",
     "text": [
      "Collecting azureml.core\n",
      "  Using cached https://files.pythonhosted.org/packages/8b/59/e9fb3bf15c4a0d47d5c6b842df21923049d7b2d16d9a106f95a0cdf4c4b7/azureml_core-1.32.0-py3-none-any.whl\n",
      "Requirement already satisfied: azure-mgmt-authorization<1.0.0,>=0.40.0 in c:\\users\\91982\\anaconda3\\lib\\site-packages (from azureml.core) (0.61.0)\n",
      "Requirement already satisfied: azure-common<2.0.0,>=1.1.12 in c:\\users\\91982\\anaconda3\\lib\\site-packages (from azureml.core) (1.1.27)\n",
      "Requirement already satisfied: ruamel.yaml<0.17.5,>=0.15.35 in c:\\users\\91982\\anaconda3\\lib\\site-packages (from azureml.core) (0.17.4)\n",
      "Requirement already satisfied: contextlib2<1.0.0 in c:\\users\\91982\\anaconda3\\lib\\site-packages (from azureml.core) (0.6.0)\n",
      "Requirement already satisfied: cryptography!=1.9,!=2.0.*,!=2.1.*,!=2.2.*,<4.0.0 in c:\\users\\91982\\anaconda3\\lib\\site-packages (from azureml.core) (2.7)\n",
      "Requirement already satisfied: msrest<1.0.0,>=0.5.1 in c:\\users\\91982\\anaconda3\\lib\\site-packages (from azureml.core) (0.6.21)\n",
      "Requirement already satisfied: python-dateutil<3.0.0,>=2.7.3 in c:\\users\\91982\\anaconda3\\lib\\site-packages (from azureml.core) (2.8.0)\n",
      "Requirement already satisfied: pathspec<1.0.0 in c:\\users\\91982\\anaconda3\\lib\\site-packages (from azureml.core) (0.9.0)\n",
      "Requirement already satisfied: docker<5.0.0 in c:\\users\\91982\\anaconda3\\lib\\site-packages (from azureml.core) (4.4.4)\n",
      "Requirement already satisfied: requests<3.0.0,>=2.19.1 in c:\\users\\91982\\anaconda3\\lib\\site-packages (from azureml.core) (2.25.1)\n",
      "Requirement already satisfied: ndg-httpsclient<=0.5.1 in c:\\users\\91982\\anaconda3\\lib\\site-packages (from azureml.core) (0.5.1)\n",
      "Requirement already satisfied: SecretStorage<4.0.0 in c:\\users\\91982\\anaconda3\\lib\\site-packages (from azureml.core) (3.3.1)\n",
      "Requirement already satisfied: azure-mgmt-resource<15.0.0,>=1.2.1 in c:\\users\\91982\\anaconda3\\lib\\site-packages (from azureml.core) (13.0.0)\n",
      "Requirement already satisfied: jsonpickle<3.0.0 in c:\\users\\91982\\anaconda3\\lib\\site-packages (from azureml.core) (2.0.0)\n",
      "Requirement already satisfied: pytz in c:\\users\\91982\\anaconda3\\lib\\site-packages (from azureml.core) (2019.3)\n",
      "Requirement already satisfied: azure-mgmt-storage<16.0.0,>=1.5.0 in c:\\users\\91982\\anaconda3\\lib\\site-packages (from azureml.core) (11.2.0)\n",
      "Requirement already satisfied: PyJWT<3.0.0 in c:\\users\\91982\\anaconda3\\lib\\site-packages (from azureml.core) (2.1.0)\n",
      "Requirement already satisfied: urllib3<=1.26.5,>=1.23 in c:\\users\\91982\\anaconda3\\lib\\site-packages (from azureml.core) (1.24.2)\n",
      "Requirement already satisfied: azure-mgmt-keyvault<10.0.0,>=0.40.0 in c:\\users\\91982\\anaconda3\\lib\\site-packages (from azureml.core) (9.0.0)\n",
      "Requirement already satisfied: azure-graphrbac<1.0.0,>=0.40.0 in c:\\users\\91982\\anaconda3\\lib\\site-packages (from azureml.core) (0.61.1)\n",
      "Requirement already satisfied: backports.tempfile in c:\\users\\91982\\anaconda3\\lib\\site-packages (from azureml.core) (1.0)\n",
      "Requirement already satisfied: pyopenssl<21.0.0 in c:\\users\\91982\\anaconda3\\lib\\site-packages (from azureml.core) (19.0.0)\n",
      "Requirement already satisfied: msrestazure<=0.6.4,>=0.4.33 in c:\\users\\91982\\anaconda3\\lib\\site-packages (from azureml.core) (0.6.4)\n",
      "Requirement already satisfied: adal<=1.2.7,>=1.2.0 in c:\\users\\91982\\anaconda3\\lib\\site-packages (from azureml.core) (1.2.7)\n",
      "Requirement already satisfied: jmespath<1.0.0 in c:\\users\\91982\\anaconda3\\lib\\site-packages (from azureml.core) (0.10.0)\n",
      "Requirement already satisfied: azure-mgmt-containerregistry>=2.0.0 in c:\\users\\91982\\anaconda3\\lib\\site-packages (from azureml.core) (8.1.0)\n",
      "Requirement already satisfied: ruamel.yaml.clib>=0.1.2; platform_python_implementation == \"CPython\" and python_version < \"3.10\" in c:\\users\\91982\\anaconda3\\lib\\site-packages (from ruamel.yaml<0.17.5,>=0.15.35->azureml.core) (0.2.6)\n",
      "Requirement already satisfied: six>=1.4.1 in c:\\users\\91982\\anaconda3\\lib\\site-packages (from cryptography!=1.9,!=2.0.*,!=2.1.*,!=2.2.*,<4.0.0->azureml.core) (1.15.0)\n",
      "Requirement already satisfied: cffi!=1.11.3,>=1.8 in c:\\users\\91982\\anaconda3\\lib\\site-packages (from cryptography!=1.9,!=2.0.*,!=2.1.*,!=2.2.*,<4.0.0->azureml.core) (1.12.3)\n",
      "Requirement already satisfied: asn1crypto>=0.21.0 in c:\\users\\91982\\anaconda3\\lib\\site-packages (from cryptography!=1.9,!=2.0.*,!=2.1.*,!=2.2.*,<4.0.0->azureml.core) (1.0.1)\n",
      "Requirement already satisfied: requests-oauthlib>=0.5.0 in c:\\users\\91982\\anaconda3\\lib\\site-packages (from msrest<1.0.0,>=0.5.1->azureml.core) (1.3.0)\n",
      "Requirement already satisfied: isodate>=0.6.0 in c:\\users\\91982\\anaconda3\\lib\\site-packages (from msrest<1.0.0,>=0.5.1->azureml.core) (0.6.0)\n",
      "Requirement already satisfied: certifi>=2017.4.17 in c:\\users\\91982\\anaconda3\\lib\\site-packages (from msrest<1.0.0,>=0.5.1->azureml.core) (2020.12.5)\n",
      "Requirement already satisfied: websocket-client>=0.32.0 in c:\\users\\91982\\anaconda3\\lib\\site-packages (from docker<5.0.0->azureml.core) (1.1.0)\n",
      "Collecting pywin32==227; sys_platform == \"win32\" (from docker<5.0.0->azureml.core)\n",
      "  Using cached https://files.pythonhosted.org/packages/bb/23/00fe4fbf9963f3bcb34a443eba0d0283fc51e5887d4045552c87490394e4/pywin32-227-cp37-cp37m-win_amd64.whl\n",
      "Requirement already satisfied: chardet<5,>=3.0.2 in c:\\users\\91982\\anaconda3\\lib\\site-packages (from requests<3.0.0,>=2.19.1->azureml.core) (3.0.4)\n",
      "Requirement already satisfied: idna<3,>=2.5 in c:\\users\\91982\\anaconda3\\lib\\site-packages (from requests<3.0.0,>=2.19.1->azureml.core) (2.8)\n",
      "Requirement already satisfied: pyasn1>=0.1.1 in c:\\users\\91982\\anaconda3\\lib\\site-packages (from ndg-httpsclient<=0.5.1->azureml.core) (0.4.8)\n",
      "Requirement already satisfied: jeepney>=0.6 in c:\\users\\91982\\anaconda3\\lib\\site-packages (from SecretStorage<4.0.0->azureml.core) (0.7.1)\n",
      "Requirement already satisfied: importlib-metadata; python_version < \"3.8\" in c:\\users\\91982\\anaconda3\\lib\\site-packages (from jsonpickle<3.0.0->azureml.core) (0.23)\n",
      "Requirement already satisfied: azure-mgmt-core<2.0.0,>=1.2.0 in c:\\users\\91982\\anaconda3\\lib\\site-packages (from azure-mgmt-keyvault<10.0.0,>=0.40.0->azureml.core) (1.3.0)\n",
      "Requirement already satisfied: backports.weakref in c:\\users\\91982\\anaconda3\\lib\\site-packages (from backports.tempfile->azureml.core) (1.0.post1)\n",
      "Requirement already satisfied: pycparser in c:\\users\\91982\\anaconda3\\lib\\site-packages (from cffi!=1.11.3,>=1.8->cryptography!=1.9,!=2.0.*,!=2.1.*,!=2.2.*,<4.0.0->azureml.core) (2.19)\n",
      "Requirement already satisfied: oauthlib>=3.0.0 in c:\\users\\91982\\anaconda3\\lib\\site-packages (from requests-oauthlib>=0.5.0->msrest<1.0.0,>=0.5.1->azureml.core) (3.1.0)\n",
      "Requirement already satisfied: zipp>=0.5 in c:\\users\\91982\\anaconda3\\lib\\site-packages (from importlib-metadata; python_version < \"3.8\"->jsonpickle<3.0.0->azureml.core) (0.6.0)\n",
      "Requirement already satisfied: azure-core<2.0.0,>=1.15.0 in c:\\users\\91982\\anaconda3\\lib\\site-packages (from azure-mgmt-core<2.0.0,>=1.2.0->azure-mgmt-keyvault<10.0.0,>=0.40.0->azureml.core) (1.16.0)\n",
      "Requirement already satisfied: more-itertools in c:\\users\\91982\\anaconda3\\lib\\site-packages (from zipp>=0.5->importlib-metadata; python_version < \"3.8\"->jsonpickle<3.0.0->azureml.core) (7.2.0)\n",
      "Installing collected packages: azureml.core, pywin32\n",
      "  Found existing installation: pywin32 301\n",
      "    Uninstalling pywin32-301:\n",
      "      Successfully uninstalled pywin32-301\n"
     ]
    },
    {
     "name": "stderr",
     "output_type": "stream",
     "text": [
      "ERROR: Could not install packages due to an EnvironmentError: [WinError 5] Access is denied: 'c:\\\\users\\\\91982\\\\appdata\\\\roaming\\\\python\\\\python37\\\\~ite-packages\\\\pywin32_system32\\\\pywintypes37.dll'\n",
      "Consider using the `--user` option or check the permissions.\n",
      "\n"
     ]
    }
   ],
   "source": [
    "#!pip install azureml.core"
   ]
  },
  {
   "cell_type": "code",
   "execution_count": 11,
   "metadata": {
    "ExecuteTime": {
     "end_time": "2021-08-02T07:48:18.168741Z",
     "start_time": "2021-08-02T07:48:11.645571Z"
    }
   },
   "outputs": [
    {
     "name": "stdout",
     "output_type": "stream",
     "text": [
      "Collecting pywin32\n",
      "  Using cached https://files.pythonhosted.org/packages/84/e0/f7c34be2e080c248e378109c3a848cd07ab8e45e11d8dc9f1d818b3940c7/pywin32-301-cp37-cp37m-win_amd64.whl\n",
      "Installing collected packages: pywin32\n",
      "Successfully installed pywin32-301\n"
     ]
    },
    {
     "name": "stderr",
     "output_type": "stream",
     "text": [
      "ERROR: docker 4.4.4 has requirement pywin32==227; sys_platform == \"win32\", but you'll have pywin32 301 which is incompatible.\n"
     ]
    }
   ],
   "source": [
    "#!pip install --ignore-installed pywin32 --user"
   ]
  },
  {
   "cell_type": "markdown",
   "metadata": {},
   "source": [
    "#### Check Azure ML SDK version"
   ]
  },
  {
   "cell_type": "code",
   "execution_count": 14,
   "metadata": {
    "ExecuteTime": {
     "end_time": "2021-08-02T07:49:42.560334Z",
     "start_time": "2021-08-02T07:49:42.552334Z"
    }
   },
   "outputs": [
    {
     "name": "stdout",
     "output_type": "stream",
     "text": [
      "1.32.0\n"
     ]
    }
   ],
   "source": [
    "print(azureml.core.VERSION)"
   ]
  },
  {
   "cell_type": "markdown",
   "metadata": {},
   "source": [
    "#### Create Azure ML Workspace"
   ]
  },
  {
   "cell_type": "code",
   "execution_count": 15,
   "metadata": {
    "ExecuteTime": {
     "end_time": "2021-08-02T07:57:00.185526Z",
     "start_time": "2021-08-02T07:54:11.797942Z"
    }
   },
   "outputs": [
    {
     "name": "stdout",
     "output_type": "stream",
     "text": [
      "Performing interactive authentication. Please follow the instructions on the terminal.\n"
     ]
    },
    {
     "name": "stderr",
     "output_type": "stream",
     "text": [
      "Note, we have launched a browser for you to login. For old experience with device code, use \"az login --use-device-code\"\n"
     ]
    },
    {
     "name": "stdout",
     "output_type": "stream",
     "text": [
      "You have logged in. Now let us find all the subscriptions to which you have access...\n",
      "Interactive authentication successfully completed.\n"
     ]
    },
    {
     "name": "stderr",
     "output_type": "stream",
     "text": [
      "UserWarning: The resource group doesn't exist or was not provided. AzureML SDK is creating a resource group=akash_salary_azure in location=southeastasia using subscription=2ea63820-da0b-4025-b108-b3b13120a031.\n"
     ]
    },
    {
     "name": "stdout",
     "output_type": "stream",
     "text": [
      "Deploying StorageAccount with name salarystoragec94359ee0bf.\n",
      "Deploying KeyVault with name salarykeyvaultd052138629.\n",
      "Deploying AppInsights with name salaryinsights6a544ae8ff.\n",
      "Deployed AppInsights with name salaryinsights6a544ae8ff. Took 11.02 seconds.\n",
      "Deployed KeyVault with name salarykeyvaultd052138629. Took 19.9 seconds.\n",
      "Deployed StorageAccount with name salarystoragec94359ee0bf. Took 24.67 seconds.\n",
      "Deploying Workspace with name salary.\n",
      "Deployed Workspace with name salary. Took 98.31 seconds.\n"
     ]
    }
   ],
   "source": [
    "AZ_SUBSCRIPTION_ID='2ea63820-da0b-4025-b108-b3b13120a031'\n",
    "ws = Workspace.create(name='salary',\n",
    "                      subscription_id=AZ_SUBSCRIPTION_ID, \n",
    "                      resource_group='akash_salary_azure',\n",
    "                      create_resource_group=True,\n",
    "                      location='southeastasia'\n",
    "                     )"
   ]
  },
  {
   "cell_type": "markdown",
   "metadata": {},
   "source": [
    "#### Write configuration to local file"
   ]
  },
  {
   "cell_type": "code",
   "execution_count": 16,
   "metadata": {
    "ExecuteTime": {
     "end_time": "2021-08-02T07:57:05.378627Z",
     "start_time": "2021-08-02T07:57:05.370615Z"
    }
   },
   "outputs": [],
   "source": [
    "ws.write_config()"
   ]
  },
  {
   "cell_type": "code",
   "execution_count": 17,
   "metadata": {
    "ExecuteTime": {
     "end_time": "2021-08-02T07:59:26.891293Z",
     "start_time": "2021-08-02T07:59:26.353763Z"
    }
   },
   "outputs": [
    {
     "data": {
      "text/plain": [
       "{'id': '/subscriptions/2ea63820-da0b-4025-b108-b3b13120a031/resourceGroups/akash_salary_azure/providers/Microsoft.MachineLearningServices/workspaces/salary',\n",
       " 'name': 'salary',\n",
       " 'identity': {'principal_id': 'e0b88de8-54bc-4eae-bec9-d1a623ffacc2',\n",
       "  'tenant_id': 'fa57b8ce-4d4c-432b-964f-a20d21d7a6a4',\n",
       "  'type': 'SystemAssigned'},\n",
       " 'location': 'southeastasia',\n",
       " 'type': 'Microsoft.MachineLearningServices/workspaces',\n",
       " 'tags': {},\n",
       " 'sku': 'Basic',\n",
       " 'workspaceid': '6296ec3c-5256-4bf3-9b43-f8ecb2ee4a21',\n",
       " 'sdkTelemetryAppInsightsKey': '0855780c-10d5-4461-ae3c-9b15eb18c90d',\n",
       " 'description': '',\n",
       " 'friendlyName': 'salary',\n",
       " 'creationTime': '2021-08-02T07:54:58.1308570+00:00',\n",
       " 'keyVault': '/subscriptions/2ea63820-da0b-4025-b108-b3b13120a031/resourcegroups/akash_salary_azure/providers/microsoft.keyvault/vaults/salarykeyvaultd052138629',\n",
       " 'applicationInsights': '/subscriptions/2ea63820-da0b-4025-b108-b3b13120a031/resourcegroups/akash_salary_azure/providers/microsoft.insights/components/salaryinsights6a544ae8ff',\n",
       " 'storageAccount': '/subscriptions/2ea63820-da0b-4025-b108-b3b13120a031/resourcegroups/akash_salary_azure/providers/microsoft.storage/storageaccounts/salarystoragec94359ee0bf',\n",
       " 'hbiWorkspace': False,\n",
       " 'allowPublicAccessWhenBehindVnet': False,\n",
       " 'provisioningState': 'Succeeded',\n",
       " 'imageBuildCompute': '',\n",
       " 'discoveryUrl': 'https://southeastasia.api.azureml.ms/discovery',\n",
       " 'notebookInfo': {'fqdn': 'ml-salary-southeastasia-6296ec3c-5256-4bf3-9b43-f8ecb2ee4a21.southeastasia.notebooks.azure.net',\n",
       "  'resource_id': 'aefbfdc65ea0477dba67c0194f2ef1bf'}}"
      ]
     },
     "execution_count": 17,
     "metadata": {},
     "output_type": "execute_result"
    }
   ],
   "source": [
    "ws.get_details()"
   ]
  },
  {
   "cell_type": "markdown",
   "metadata": {},
   "source": [
    "#### Create Azure ML Experiment"
   ]
  },
  {
   "cell_type": "code",
   "execution_count": 18,
   "metadata": {
    "ExecuteTime": {
     "end_time": "2021-08-02T08:00:05.582165Z",
     "start_time": "2021-08-02T08:00:01.464797Z"
    }
   },
   "outputs": [],
   "source": [
    "exp = Experiment(workspace=ws, name='salexp')"
   ]
  },
  {
   "cell_type": "markdown",
   "metadata": {},
   "source": [
    "Experiments is a mechanism to track metrics. We will have to perform experiments (iterate many times) before getting the final model. The tuning of paramaters like epochs, rtc can be logged in Azure and we can visualize and refer these logs for our purpose."
   ]
  },
  {
   "cell_type": "markdown",
   "metadata": {},
   "source": [
    "#### Start logging metrics"
   ]
  },
  {
   "cell_type": "code",
   "execution_count": 19,
   "metadata": {
    "ExecuteTime": {
     "end_time": "2021-08-02T08:02:59.609225Z",
     "start_time": "2021-08-02T08:02:50.370932Z"
    }
   },
   "outputs": [],
   "source": [
    "run = exp.start_logging()                   \n",
    "run.log(\"Experiment start time\", str(datetime.datetime.now()))"
   ]
  },
  {
   "cell_type": "markdown",
   "metadata": {},
   "source": [
    "#### Load salary dataset"
   ]
  },
  {
   "cell_type": "code",
   "execution_count": 20,
   "metadata": {
    "ExecuteTime": {
     "end_time": "2021-08-02T08:03:01.861849Z",
     "start_time": "2021-08-02T08:03:01.837835Z"
    }
   },
   "outputs": [],
   "source": [
    "sal = pd.read_csv('data/sal.csv',header=0, index_col=None)\n",
    "X = sal[['x']]\n",
    "y = sal['y']"
   ]
  },
  {
   "cell_type": "markdown",
   "metadata": {},
   "source": [
    "#### Split the train and test data"
   ]
  },
  {
   "cell_type": "code",
   "execution_count": 21,
   "metadata": {
    "ExecuteTime": {
     "end_time": "2021-08-02T08:03:05.118881Z",
     "start_time": "2021-08-02T08:03:05.102876Z"
    }
   },
   "outputs": [],
   "source": [
    "X_train, X_test, y_train, y_test = train_test_split(X, y, test_size=0.25, random_state=10)"
   ]
  },
  {
   "cell_type": "markdown",
   "metadata": {},
   "source": [
    "#### Train the model"
   ]
  },
  {
   "cell_type": "code",
   "execution_count": 22,
   "metadata": {
    "ExecuteTime": {
     "end_time": "2021-08-02T08:03:06.570152Z",
     "start_time": "2021-08-02T08:03:06.539444Z"
    }
   },
   "outputs": [
    {
     "data": {
      "text/plain": [
       "LinearRegression()"
      ]
     },
     "execution_count": 22,
     "metadata": {},
     "output_type": "execute_result"
    }
   ],
   "source": [
    "lm = LinearRegression() \n",
    "lm.fit(X_train,y_train) "
   ]
  },
  {
   "cell_type": "markdown",
   "metadata": {},
   "source": [
    "#### Freeze the model"
   ]
  },
  {
   "cell_type": "code",
   "execution_count": 23,
   "metadata": {
    "ExecuteTime": {
     "end_time": "2021-08-02T08:03:12.805276Z",
     "start_time": "2021-08-02T08:03:12.789615Z"
    }
   },
   "outputs": [
    {
     "data": {
      "text/plain": [
       "['outputs/sal_model.pkl']"
      ]
     },
     "execution_count": 23,
     "metadata": {},
     "output_type": "execute_result"
    }
   ],
   "source": [
    "filename = 'outputs/sal_model.pkl'\n",
    "joblib.dump(lm, filename)"
   ]
  },
  {
   "cell_type": "markdown",
   "metadata": {},
   "source": [
    "#### Test the model"
   ]
  },
  {
   "cell_type": "code",
   "execution_count": 24,
   "metadata": {
    "ExecuteTime": {
     "end_time": "2021-08-02T08:03:16.081200Z",
     "start_time": "2021-08-02T08:03:16.065175Z"
    }
   },
   "outputs": [
    {
     "name": "stdout",
     "output_type": "stream",
     "text": [
      "141760.56910569107\n"
     ]
    }
   ],
   "source": [
    "filename = 'outputs/sal_model.pkl'\n",
    "loaded_model=joblib.load(filename)\n",
    "y=loaded_model.predict([[21]])[0]\n",
    "print(y)"
   ]
  },
  {
   "cell_type": "markdown",
   "metadata": {},
   "source": [
    "#### Log metrics to Azure ML Experiment"
   ]
  },
  {
   "cell_type": "code",
   "execution_count": 25,
   "metadata": {
    "ExecuteTime": {
     "end_time": "2021-08-02T08:03:20.162807Z",
     "start_time": "2021-08-02T08:03:20.154805Z"
    }
   },
   "outputs": [],
   "source": [
    "run.log('Intercept :', lm.intercept_)\n",
    "run.log('Slope :', lm.coef_[0])"
   ]
  },
  {
   "cell_type": "markdown",
   "metadata": {},
   "source": [
    "#### End Azure ML Experiment"
   ]
  },
  {
   "cell_type": "code",
   "execution_count": 26,
   "metadata": {
    "ExecuteTime": {
     "end_time": "2021-08-02T08:03:27.407768Z",
     "start_time": "2021-08-02T08:03:23.689252Z"
    }
   },
   "outputs": [],
   "source": [
    "run.log(\"Experiment end time\", str(datetime.datetime.now()))\n",
    "run.complete()"
   ]
  },
  {
   "cell_type": "markdown",
   "metadata": {},
   "source": [
    "#### Get Portal URL"
   ]
  },
  {
   "cell_type": "code",
   "execution_count": 27,
   "metadata": {
    "ExecuteTime": {
     "end_time": "2021-08-02T08:03:32.884596Z",
     "start_time": "2021-08-02T08:03:32.876567Z"
    }
   },
   "outputs": [
    {
     "name": "stdout",
     "output_type": "stream",
     "text": [
      "https://ml.azure.com/runs/d4857852-d512-4eb6-80b2-34d84492c3b4?wsid=/subscriptions/2ea63820-da0b-4025-b108-b3b13120a031/resourcegroups/akash_salary_azure/workspaces/salary&tid=fa57b8ce-4d4c-432b-964f-a20d21d7a6a4\n"
     ]
    }
   ],
   "source": [
    "print(run.get_portal_url())"
   ]
  },
  {
   "cell_type": "markdown",
   "metadata": {},
   "source": [
    "#### Register the model"
   ]
  },
  {
   "cell_type": "code",
   "execution_count": 28,
   "metadata": {
    "ExecuteTime": {
     "end_time": "2021-08-02T08:34:50.824802Z",
     "start_time": "2021-08-02T08:34:48.153836Z"
    }
   },
   "outputs": [
    {
     "name": "stdout",
     "output_type": "stream",
     "text": [
      "Registering model sal_model\n"
     ]
    }
   ],
   "source": [
    "model = Model.register(model_path = \"outputs/sal_model.pkl\",\n",
    "                       model_name = \"sal_model\",\n",
    "                       tags = {\"key\": \"1\"},\n",
    "                       description = \"Salary Prediction\",\n",
    "                       workspace = ws)"
   ]
  },
  {
   "cell_type": "markdown",
   "metadata": {},
   "source": [
    "#### Define Azure ML Deploymemt configuration"
   ]
  },
  {
   "cell_type": "code",
   "execution_count": 29,
   "metadata": {
    "ExecuteTime": {
     "end_time": "2021-08-02T08:39:03.784824Z",
     "start_time": "2021-08-02T08:39:03.756685Z"
    }
   },
   "outputs": [],
   "source": [
    "aciconfig = AciWebservice.deploy_configuration(cpu_cores=1, \n",
    "                                               memory_gb=1, \n",
    "                                               tags={\"data\": \"Salary\",  \"method\" : \"sklearn\"}, \n",
    "                                               description='Predict Stackoverflow Salary')"
   ]
  },
  {
   "cell_type": "markdown",
   "metadata": {},
   "source": [
    "ACI is Azure Constainer Instance to deploy our model into Azure. It is serverless container infrastructure instance on Azure. "
   ]
  },
  {
   "cell_type": "markdown",
   "metadata": {},
   "source": [
    "#### Create enviroment configuration file"
   ]
  },
  {
   "cell_type": "markdown",
   "metadata": {},
   "source": [
    "salenv.yml is to specify the dependencies which are required to be installed in Azure for running the model. Azure ML parses the yml file and gets all the version dependencies to be installed."
   ]
  },
  {
   "cell_type": "code",
   "execution_count": 30,
   "metadata": {
    "ExecuteTime": {
     "end_time": "2021-08-02T08:44:11.767462Z",
     "start_time": "2021-08-02T08:44:11.735907Z"
    }
   },
   "outputs": [
    {
     "name": "stdout",
     "output_type": "stream",
     "text": [
      "# Conda environment specification. The dependencies defined in this file will\n",
      "\n",
      "# be automatically provisioned for runs with userManagedDependencies=False.\n",
      "\n",
      "\n",
      "# Details about the Conda environment file format:\n",
      "\n",
      "# https://conda.io/docs/user-guide/tasks/manage-environments.html#create-env-file-manually\n",
      "\n",
      "\n",
      "name: project_environment\n",
      "dependencies:\n",
      "  # The python interpreter version.\n",
      "\n",
      "  # Currently Azure ML only supports 3.5.2 and later.\n",
      "\n",
      "- python=3.6.2\n",
      "\n",
      "- pip:\n",
      "    # Required packages for AzureML execution, history, and data preparation.\n",
      "\n",
      "  - azureml-defaults\n",
      "\n",
      "- scikit-learn\n",
      "channels:\n",
      "- anaconda\n",
      "- conda-forge\n",
      "\n"
     ]
    }
   ],
   "source": [
    "salenv = CondaDependencies()\n",
    "salenv.add_conda_package(\"scikit-learn\")\n",
    "\n",
    "with open(\"salenv.yml\",\"w\") as f:\n",
    "    f.write(salenv.serialize_to_string())\n",
    "with open(\"salenv.yml\",\"r\") as f:\n",
    "    print(f.read())"
   ]
  },
  {
   "cell_type": "markdown",
   "metadata": {},
   "source": [
    "#### Create Azure ML Scoring file"
   ]
  },
  {
   "cell_type": "code",
   "execution_count": 31,
   "metadata": {
    "ExecuteTime": {
     "end_time": "2021-08-02T08:44:30.227613Z",
     "start_time": "2021-08-02T08:44:30.211612Z"
    }
   },
   "outputs": [
    {
     "name": "stdout",
     "output_type": "stream",
     "text": [
      "Overwriting score.py\n"
     ]
    }
   ],
   "source": [
    "%%writefile score.py\n",
    "import json\n",
    "import numpy as np\n",
    "import os\n",
    "import pickle\n",
    "import joblib\n",
    "from sklearn.linear_model import LogisticRegression\n",
    "\n",
    "from azureml.core.model import Model\n",
    "\n",
    "def init():\n",
    "    global model\n",
    "    # retrieve the path to the model file using the model name\n",
    "    model_path = Model.get_model_path('sal_model')\n",
    "    model = joblib.load(model_path)\n",
    "\n",
    "def run(raw_data):\n",
    "    data = np.array(json.loads(raw_data)['data'])\n",
    "    # make prediction\n",
    "    y_hat = model.predict(data)\n",
    "    return json.dumps(y_hat.tolist())"
   ]
  },
  {
   "cell_type": "markdown",
   "metadata": {},
   "source": [
    "#### Deploy the model to Azure Container Instance\n"
   ]
  },
  {
   "cell_type": "code",
   "execution_count": 32,
   "metadata": {
    "ExecuteTime": {
     "end_time": "2021-08-02T08:44:40.066925Z",
     "start_time": "2021-08-02T08:44:40.042957Z"
    }
   },
   "outputs": [
    {
     "name": "stdout",
     "output_type": "stream",
     "text": [
      "Wall time: 0 ns\n"
     ]
    },
    {
     "name": "stderr",
     "output_type": "stream",
     "text": [
      "C:\\Users\\91982\\Anaconda3\\lib\\site-packages\\ipykernel_launcher.py:3: DeprecationWarning: ContainerImage class has been deprecated and will be removed in a future release. Please migrate to using Environments. https://docs.microsoft.com/en-us/azure/machine-learning/how-to-use-environments\n",
      "  This is separate from the ipykernel package so we can avoid doing imports until\n"
     ]
    }
   ],
   "source": [
    "%%time\n",
    "image_config = ContainerImage.image_configuration(execution_script=\"score.py\", \n",
    "                                                  runtime=\"python\", \n",
    "                                                  conda_file=\"salenv.yml\")"
   ]
  },
  {
   "cell_type": "markdown",
   "metadata": {},
   "source": [
    "#### We have created a Docker Image with 3 files -\n",
    "1. Pickle file \n",
    "2. YML file\n",
    "3. Score.py - scoring file\n",
    "\n",
    "#### This Docker Image needs to be exposed so we need to run the Docker image and expose it to outside users as a web service. "
   ]
  },
  {
   "cell_type": "markdown",
   "metadata": {},
   "source": [
    "#### Expose web service"
   ]
  },
  {
   "cell_type": "code",
   "execution_count": 34,
   "metadata": {
    "ExecuteTime": {
     "end_time": "2021-08-02T09:06:51.542532Z",
     "start_time": "2021-08-02T08:59:21.682555Z"
    },
    "scrolled": true
   },
   "outputs": [
    {
     "name": "stderr",
     "output_type": "stream",
     "text": [
      "C:\\Users\\91982\\Anaconda3\\lib\\site-packages\\ipykernel_launcher.py:5: DeprecationWarning: deploy_from_model has been deprecated and will be removed in a future release. Please migrate to using Environments. https://docs.microsoft.com/en-us/azure/machine-learning/how-to-use-environments\n",
      "  \"\"\"\n"
     ]
    },
    {
     "name": "stdout",
     "output_type": "stream",
     "text": [
      "Creating image\n",
      "Running..................................................................................\n",
      "Succeeded\n",
      "Image creation operation finished for image salary-svc:2, operation \"Succeeded\"\n"
     ]
    },
    {
     "ename": "WebserviceException",
     "evalue": "WebserviceException:\n\tMessage: Service salary-svc with the same name already exists, please use a different service name or delete the existing service.\n\tInnerException None\n\tErrorResponse \n{\n    \"error\": {\n        \"message\": \"Service salary-svc with the same name already exists, please use a different service name or delete the existing service.\"\n    }\n}",
     "output_type": "error",
     "traceback": [
      "\u001b[1;31m---------------------------------------------------------------------------\u001b[0m",
      "\u001b[1;31mWebserviceException\u001b[0m                       Traceback (most recent call last)",
      "\u001b[1;32m<ipython-input-34-be7aed959367>\u001b[0m in \u001b[0;36m<module>\u001b[1;34m\u001b[0m\n\u001b[0;32m      3\u001b[0m                                        \u001b[0mdeployment_config\u001b[0m\u001b[1;33m=\u001b[0m\u001b[0maciconfig\u001b[0m\u001b[1;33m,\u001b[0m\u001b[1;33m\u001b[0m\u001b[1;33m\u001b[0m\u001b[0m\n\u001b[0;32m      4\u001b[0m                                        \u001b[0mmodels\u001b[0m\u001b[1;33m=\u001b[0m\u001b[1;33m[\u001b[0m\u001b[0mmodel\u001b[0m\u001b[1;33m]\u001b[0m\u001b[1;33m,\u001b[0m\u001b[1;33m\u001b[0m\u001b[1;33m\u001b[0m\u001b[0m\n\u001b[1;32m----> 5\u001b[1;33m                                        image_config=image_config)\n\u001b[0m\u001b[0;32m      6\u001b[0m \u001b[1;33m\u001b[0m\u001b[0m\n\u001b[0;32m      7\u001b[0m \u001b[0mservice\u001b[0m\u001b[1;33m.\u001b[0m\u001b[0mwait_for_deployment\u001b[0m\u001b[1;33m(\u001b[0m\u001b[0mshow_output\u001b[0m\u001b[1;33m=\u001b[0m\u001b[1;32mTrue\u001b[0m\u001b[1;33m)\u001b[0m\u001b[1;33m\u001b[0m\u001b[1;33m\u001b[0m\u001b[0m\n",
      "\u001b[1;32m~\\Anaconda3\\lib\\site-packages\\azureml\\core\\webservice\\webservice.py\u001b[0m in \u001b[0;36mdeploy_from_model\u001b[1;34m(workspace, name, models, image_config, deployment_config, deployment_target, overwrite)\u001b[0m\n\u001b[0;32m    458\u001b[0m                                           \u001b[0mimage\u001b[0m\u001b[1;33m.\u001b[0m\u001b[0mimage_build_log_uri\u001b[0m\u001b[1;33m,\u001b[0m\u001b[1;33m\u001b[0m\u001b[1;33m\u001b[0m\u001b[0m\n\u001b[0;32m    459\u001b[0m                                           image.generated_dockerfile_uri), logger=module_logger)\n\u001b[1;32m--> 460\u001b[1;33m         \u001b[1;32mreturn\u001b[0m \u001b[0mWebservice\u001b[0m\u001b[1;33m.\u001b[0m\u001b[0mdeploy_from_image\u001b[0m\u001b[1;33m(\u001b[0m\u001b[0mworkspace\u001b[0m\u001b[1;33m,\u001b[0m \u001b[0mname\u001b[0m\u001b[1;33m,\u001b[0m \u001b[0mimage\u001b[0m\u001b[1;33m,\u001b[0m \u001b[0mdeployment_config\u001b[0m\u001b[1;33m,\u001b[0m \u001b[0mdeployment_target\u001b[0m\u001b[1;33m,\u001b[0m \u001b[0moverwrite\u001b[0m\u001b[1;33m)\u001b[0m\u001b[1;33m\u001b[0m\u001b[1;33m\u001b[0m\u001b[0m\n\u001b[0m\u001b[0;32m    461\u001b[0m \u001b[1;33m\u001b[0m\u001b[0m\n\u001b[0;32m    462\u001b[0m     \u001b[1;33m@\u001b[0m\u001b[0mstaticmethod\u001b[0m\u001b[1;33m\u001b[0m\u001b[1;33m\u001b[0m\u001b[0m\n",
      "\u001b[1;32m~\\Anaconda3\\lib\\site-packages\\azureml\\core\\webservice\\webservice.py\u001b[0m in \u001b[0;36mdeploy_from_image\u001b[1;34m(workspace, name, image, deployment_config, deployment_target, overwrite)\u001b[0m\n\u001b[0;32m    505\u001b[0m                         \u001b[1;32mreturn\u001b[0m \u001b[0mchild\u001b[0m\u001b[1;33m.\u001b[0m\u001b[0m_deploy\u001b[0m\u001b[1;33m(\u001b[0m\u001b[0mworkspace\u001b[0m\u001b[1;33m,\u001b[0m \u001b[0mname\u001b[0m\u001b[1;33m,\u001b[0m \u001b[0mimage\u001b[0m\u001b[1;33m,\u001b[0m \u001b[0mdeployment_config\u001b[0m\u001b[1;33m,\u001b[0m \u001b[0moverwrite\u001b[0m\u001b[1;33m)\u001b[0m\u001b[1;33m\u001b[0m\u001b[1;33m\u001b[0m\u001b[0m\n\u001b[0;32m    506\u001b[0m             return deployment_config._webservice_type._deploy(workspace, name, image, deployment_config,\n\u001b[1;32m--> 507\u001b[1;33m                                                               overwrite=overwrite)\n\u001b[0m\u001b[0;32m    508\u001b[0m \u001b[1;33m\u001b[0m\u001b[0m\n\u001b[0;32m    509\u001b[0m         \u001b[1;32melse\u001b[0m\u001b[1;33m:\u001b[0m\u001b[1;33m\u001b[0m\u001b[1;33m\u001b[0m\u001b[0m\n",
      "\u001b[1;32m~\\Anaconda3\\lib\\site-packages\\azureml\\core\\webservice\\aci.py\u001b[0m in \u001b[0;36m_deploy\u001b[1;34m(workspace, name, image, deployment_config, overwrite)\u001b[0m\n\u001b[0;32m    286\u001b[0m         \u001b[0mdeployment_config\u001b[0m\u001b[1;33m.\u001b[0m\u001b[0mvalidate_image\u001b[0m\u001b[1;33m(\u001b[0m\u001b[0mimage\u001b[0m\u001b[1;33m)\u001b[0m\u001b[1;33m\u001b[0m\u001b[1;33m\u001b[0m\u001b[0m\n\u001b[0;32m    287\u001b[0m         \u001b[0mcreate_payload\u001b[0m \u001b[1;33m=\u001b[0m \u001b[0mAciWebservice\u001b[0m\u001b[1;33m.\u001b[0m\u001b[0m_build_create_payload\u001b[0m\u001b[1;33m(\u001b[0m\u001b[0mname\u001b[0m\u001b[1;33m,\u001b[0m \u001b[0mimage\u001b[0m\u001b[1;33m,\u001b[0m \u001b[0mdeployment_config\u001b[0m\u001b[1;33m,\u001b[0m \u001b[0moverwrite\u001b[0m\u001b[1;33m)\u001b[0m\u001b[1;33m\u001b[0m\u001b[1;33m\u001b[0m\u001b[0m\n\u001b[1;32m--> 288\u001b[1;33m         \u001b[1;32mreturn\u001b[0m \u001b[0mWebservice\u001b[0m\u001b[1;33m.\u001b[0m\u001b[0m_deploy_webservice\u001b[0m\u001b[1;33m(\u001b[0m\u001b[0mworkspace\u001b[0m\u001b[1;33m,\u001b[0m \u001b[0mname\u001b[0m\u001b[1;33m,\u001b[0m \u001b[0mcreate_payload\u001b[0m\u001b[1;33m,\u001b[0m \u001b[0moverwrite\u001b[0m\u001b[1;33m,\u001b[0m \u001b[0mAciWebservice\u001b[0m\u001b[1;33m)\u001b[0m\u001b[1;33m\u001b[0m\u001b[1;33m\u001b[0m\u001b[0m\n\u001b[0m\u001b[0;32m    289\u001b[0m \u001b[1;33m\u001b[0m\u001b[0m\n\u001b[0;32m    290\u001b[0m     \u001b[1;33m@\u001b[0m\u001b[0mstaticmethod\u001b[0m\u001b[1;33m\u001b[0m\u001b[1;33m\u001b[0m\u001b[0m\n",
      "\u001b[1;32m~\\Anaconda3\\lib\\site-packages\\azureml\\core\\webservice\\webservice.py\u001b[0m in \u001b[0;36m_deploy_webservice\u001b[1;34m(workspace, name, webservice_payload, overwrite, webservice_class, show_output)\u001b[0m\n\u001b[0;32m    825\u001b[0m         \"\"\"\n\u001b[0;32m    826\u001b[0m         \u001b[1;31m# TODO Remove check_for_existing_webservice() later, this check has already included in common validation.\u001b[0m\u001b[1;33m\u001b[0m\u001b[1;33m\u001b[0m\u001b[1;33m\u001b[0m\u001b[0m\n\u001b[1;32m--> 827\u001b[1;33m         \u001b[0mWebservice\u001b[0m\u001b[1;33m.\u001b[0m\u001b[0mcheck_for_existing_webservice\u001b[0m\u001b[1;33m(\u001b[0m\u001b[0mworkspace\u001b[0m\u001b[1;33m,\u001b[0m \u001b[0mname\u001b[0m\u001b[1;33m,\u001b[0m \u001b[0moverwrite\u001b[0m\u001b[1;33m)\u001b[0m\u001b[1;33m\u001b[0m\u001b[1;33m\u001b[0m\u001b[0m\n\u001b[0m\u001b[0;32m    828\u001b[0m         Webservice._check_for_webservice(workspace, name, Webservice._get_deploy_compute_type(webservice_payload),\n\u001b[0;32m    829\u001b[0m                                          webservice_payload, SERVICE_REQUEST_OPERATION_CREATE)\n",
      "\u001b[1;32m~\\Anaconda3\\lib\\site-packages\\azureml\\core\\webservice\\webservice.py\u001b[0m in \u001b[0;36mcheck_for_existing_webservice\u001b[1;34m(workspace, name, overwrite, request_func, check_func)\u001b[0m\n\u001b[0;32m    666\u001b[0m                 \u001b[1;32mreturn\u001b[0m \u001b[0mWebservice\u001b[0m\u001b[1;33m.\u001b[0m\u001b[0m_check_validate_error\u001b[0m\u001b[1;33m(\u001b[0m\u001b[0mcontent\u001b[0m\u001b[1;33m)\u001b[0m\u001b[1;33m\u001b[0m\u001b[1;33m\u001b[0m\u001b[0m\n\u001b[0;32m    667\u001b[0m \u001b[1;33m\u001b[0m\u001b[0m\n\u001b[1;32m--> 668\u001b[1;33m         \u001b[0mWebservice\u001b[0m\u001b[1;33m.\u001b[0m\u001b[0m_run_validate_framework\u001b[0m\u001b[1;33m(\u001b[0m\u001b[0mrequest_func\u001b[0m\u001b[1;33m,\u001b[0m \u001b[0mcheck_func\u001b[0m\u001b[1;33m)\u001b[0m\u001b[1;33m\u001b[0m\u001b[1;33m\u001b[0m\u001b[0m\n\u001b[0m\u001b[0;32m    669\u001b[0m \u001b[1;33m\u001b[0m\u001b[0m\n\u001b[0;32m    670\u001b[0m     \u001b[1;33m@\u001b[0m\u001b[0mstaticmethod\u001b[0m\u001b[1;33m\u001b[0m\u001b[1;33m\u001b[0m\u001b[0m\n",
      "\u001b[1;32m~\\Anaconda3\\lib\\site-packages\\azureml\\core\\webservice\\webservice.py\u001b[0m in \u001b[0;36m_run_validate_framework\u001b[1;34m(request_func, check_func)\u001b[0m\n\u001b[0;32m    637\u001b[0m             \u001b[1;32mreturn\u001b[0m\u001b[1;33m\u001b[0m\u001b[1;33m\u001b[0m\u001b[0m\n\u001b[0;32m    638\u001b[0m \u001b[1;33m\u001b[0m\u001b[0m\n\u001b[1;32m--> 639\u001b[1;33m         \u001b[1;32mraise\u001b[0m \u001b[0mWebserviceException\u001b[0m\u001b[1;33m(\u001b[0m\u001b[0merror\u001b[0m\u001b[1;33m)\u001b[0m\u001b[1;33m\u001b[0m\u001b[1;33m\u001b[0m\u001b[0m\n\u001b[0m\u001b[0;32m    640\u001b[0m \u001b[1;33m\u001b[0m\u001b[0m\n\u001b[0;32m    641\u001b[0m     \u001b[1;33m@\u001b[0m\u001b[0mstaticmethod\u001b[0m\u001b[1;33m\u001b[0m\u001b[1;33m\u001b[0m\u001b[0m\n",
      "\u001b[1;31mWebserviceException\u001b[0m: WebserviceException:\n\tMessage: Service salary-svc with the same name already exists, please use a different service name or delete the existing service.\n\tInnerException None\n\tErrorResponse \n{\n    \"error\": {\n        \"message\": \"Service salary-svc with the same name already exists, please use a different service name or delete the existing service.\"\n    }\n}"
     ]
    }
   ],
   "source": [
    "service = Webservice.deploy_from_model(workspace=ws,\n",
    "                                       name='salary-svc',\n",
    "                                       deployment_config=aciconfig,\n",
    "                                       models=[model],\n",
    "                                       image_config=image_config)\n",
    "\n",
    "service.wait_for_deployment(show_output=True)"
   ]
  },
  {
   "cell_type": "markdown",
   "metadata": {},
   "source": [
    "#### Get the Web Service URL"
   ]
  },
  {
   "cell_type": "code",
   "execution_count": 23,
   "metadata": {
    "scrolled": true
   },
   "outputs": [
    {
     "name": "stdout",
     "output_type": "stream",
     "text": [
      "http://40.119.206.56:80/score\n"
     ]
    }
   ],
   "source": [
    "print(service.scoring_uri)"
   ]
  },
  {
   "cell_type": "code",
   "execution_count": 26,
   "metadata": {},
   "outputs": [
    {
     "name": "stdout",
     "output_type": "stream",
     "text": [
      "\"[185924.7967479675]\""
     ]
    }
   ],
   "source": [
    "!curl -X POST \\\n",
    "\t-H 'Content-Type':'application/json' \\\n",
    "\t-d '{\"data\":[[45]]}' \\\n",
    "\thttp://40.119.206.56:80/score"
   ]
  },
  {
   "cell_type": "markdown",
   "metadata": {},
   "source": [
    "#### Delete Workspace and clean up resources"
   ]
  },
  {
   "cell_type": "code",
   "execution_count": 35,
   "metadata": {
    "ExecuteTime": {
     "end_time": "2021-08-02T09:12:15.858419Z",
     "start_time": "2021-08-02T09:11:44.266469Z"
    }
   },
   "outputs": [],
   "source": [
    "ws.delete()"
   ]
  },
  {
   "cell_type": "code",
   "execution_count": null,
   "metadata": {},
   "outputs": [],
   "source": []
  }
 ],
 "metadata": {
  "kernelspec": {
   "display_name": "Python 3",
   "language": "python",
   "name": "python3"
  },
  "language_info": {
   "codemirror_mode": {
    "name": "ipython",
    "version": 3
   },
   "file_extension": ".py",
   "mimetype": "text/x-python",
   "name": "python",
   "nbconvert_exporter": "python",
   "pygments_lexer": "ipython3",
   "version": "3.7.4"
  }
 },
 "nbformat": 4,
 "nbformat_minor": 2
}
